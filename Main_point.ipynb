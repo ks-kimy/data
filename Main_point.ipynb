{
 "cells": [
  {
   "cell_type": "markdown",
   "metadata": {},
   "source": [
    "# 파이썬 : 함수, 객체, 메서드, 연산자\n",
    "1. pandas - 파일 읽기, 데이터 전처리, 데이터 탐색, 정수 출력\n",
    "2. sklearn, pandas - 파일 읽기/쓰기, 모델링, 평가\n",
    "3. scipy, pandas - 모수/비모수 가설검정, 정규성, 등분산성 + 확률분포 (우선순위 낮음)\n",
    "\n"
   ]
  },
  {
   "cell_type": "markdown",
   "metadata": {},
   "source": [
    "# pandas\n",
    "- youtube : 구독자, 조회수, 비디오수 -> Object -> numneric\n",
    "  - Series/DaataFrame.astype(), Series/DataFrame.replace()\n",
    "  - pd.to_datetime(Seriex, format='%y%m%d')\n",
    "  - pd.Categorical(Series, categories = ['월','화','수','목','금','토','일']).cat.codes\n",
    "  - 데이터 정렬 (DataFrame.sort_values('구독자', ascending=False).head(3))\n",
    "  - 분위수 (통계값 기준)"
   ]
  },
  {
   "cell_type": "markdown",
   "metadata": {},
   "source": []
  }
 ],
 "metadata": {
  "language_info": {
   "name": "python"
  }
 },
 "nbformat": 4,
 "nbformat_minor": 2
}
